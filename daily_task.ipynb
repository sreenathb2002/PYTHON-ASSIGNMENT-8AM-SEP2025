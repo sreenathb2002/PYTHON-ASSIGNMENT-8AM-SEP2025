{
  "nbformat": 4,
  "nbformat_minor": 0,
  "metadata": {
    "colab": {
      "provenance": [],
      "authorship_tag": "ABX9TyNWwWzI9KtuD8xinJ6a/AFR",
      "include_colab_link": true
    },
    "kernelspec": {
      "name": "python3",
      "display_name": "Python 3"
    },
    "language_info": {
      "name": "python"
    }
  },
  "cells": [
    {
      "cell_type": "markdown",
      "metadata": {
        "id": "view-in-github",
        "colab_type": "text"
      },
      "source": [
        "<a href=\"https://colab.research.google.com/github/sreenathb2002/PYTHON-ASSIGNMENT-8AM-SEP2025/blob/main/daily_task.ipynb\" target=\"_parent\"><img src=\"https://colab.research.google.com/assets/colab-badge.svg\" alt=\"Open In Colab\"/></a>"
      ]
    },
    {
      "cell_type": "markdown",
      "source": [
        "                                  ASSIGNMENT-1  (01-01-2025)"
      ],
      "metadata": {
        "id": "ypIuU-LD87GR"
      }
    },
    {
      "cell_type": "markdown",
      "source": [
        "1.write a python program that takes the length and width of arectangle from the user and prints its area"
      ],
      "metadata": {
        "id": "1xYhtszt93sE"
      }
    },
    {
      "cell_type": "code",
      "source": [
        "length = float(input(\"enter the length of rectangle:\"))\n",
        "width =  float(input(\"enter the width of rectangle:\"))\n",
        "area = length*width\n",
        "print(\"area of rectangle =\",area)"
      ],
      "metadata": {
        "colab": {
          "base_uri": "https://localhost:8080/"
        },
        "id": "7cwH4Gb9-NmN",
        "outputId": "b72ca535-90d5-44dc-f5fe-53e2a912cb6e"
      },
      "execution_count": null,
      "outputs": [
        {
          "output_type": "stream",
          "name": "stdout",
          "text": [
            "enter the length of rectangle:8\n",
            "enter the width of rectangle:2\n",
            "area of rectangle = 16.0\n"
          ]
        }
      ]
    },
    {
      "cell_type": "markdown",
      "source": [
        "2.write a program that asks the user for the side of a square and prints its perimeter."
      ],
      "metadata": {
        "id": "uX1enykA-c_G"
      }
    },
    {
      "cell_type": "code",
      "source": [
        "side_square = float(input(\"enter square side value:\"))\n",
        "perimeter = side_square*4\n",
        "print(\"perimeter of square is \",perimeter)"
      ],
      "metadata": {
        "colab": {
          "base_uri": "https://localhost:8080/"
        },
        "id": "qIA3XI8D-uNh",
        "outputId": "21e8e2a6-585e-4f55-a5e4-8b52475c3635"
      },
      "execution_count": null,
      "outputs": [
        {
          "output_type": "stream",
          "name": "stdout",
          "text": [
            "enter square side value:4\n",
            "perimeter of square is  16.0\n"
          ]
        }
      ]
    },
    {
      "cell_type": "markdown",
      "source": [
        "3.Take the base and height of a triangle as input and print its area."
      ],
      "metadata": {
        "id": "W5CmibQg_HaQ"
      }
    },
    {
      "cell_type": "code",
      "source": [
        "base = float(input(\"enter the base value of triangle:\"))\n",
        "height  = float(input(\"enter the height value of triangle:\"))\n",
        "area = (1/2)*base*height\n",
        "print(\"area of a triangle = \",area)"
      ],
      "metadata": {
        "colab": {
          "base_uri": "https://localhost:8080/"
        },
        "id": "LF9b3O2r_WtH",
        "outputId": "a0dae81a-f016-4518-a46d-916d37e17af3"
      },
      "execution_count": null,
      "outputs": [
        {
          "output_type": "stream",
          "name": "stdout",
          "text": [
            "enter the base value of triangle:8\n",
            "enter the height value of triangle:6\n",
            "area of a triangle =  24.0\n"
          ]
        }
      ]
    },
    {
      "cell_type": "markdown",
      "source": [
        "4.write a program that asks the user for the radius of a circle and prints its circumference.(use 3.14 for pi)."
      ],
      "metadata": {
        "id": "Oa8w4U9a_jTv"
      }
    },
    {
      "cell_type": "code",
      "source": [
        "radius = float(input(\"enter the radius of the circle :\"))\n",
        "pi = 3.14\n",
        "circumference = 2*pi*radius\n",
        "print(\"circumference of the circle = \",circumference)"
      ],
      "metadata": {
        "colab": {
          "base_uri": "https://localhost:8080/"
        },
        "id": "rUMIZW4Q_8g_",
        "outputId": "a5e4ff73-7c60-465e-d3fa-f8126d3af9e5"
      },
      "execution_count": null,
      "outputs": [
        {
          "output_type": "stream",
          "name": "stdout",
          "text": [
            "enter the radius of the circle :8\n",
            "circumference of the circle =  50.24\n"
          ]
        }
      ]
    },
    {
      "cell_type": "markdown",
      "source": [
        "5.Take Principal (P), Rate (R), and Time (T) as input from the user and print the Simple Interest."
      ],
      "metadata": {
        "id": "cB8258UpAJBk"
      }
    },
    {
      "cell_type": "code",
      "source": [
        "p = float(input(\"enter the principal amount:\"))\n",
        "r = float(input(\"enter the rate of interest:\"))\n",
        "t = float(input(\"enter the time in years:\"))\n",
        "simple_interest = (p*t*r)/100\n",
        "print(\"simple interest =\",simple_interest)"
      ],
      "metadata": {
        "colab": {
          "base_uri": "https://localhost:8080/"
        },
        "id": "dd0fBEzZAXvf",
        "outputId": "b7c0d32e-a779-428a-8820-53e3b9589fa4"
      },
      "execution_count": null,
      "outputs": [
        {
          "output_type": "stream",
          "name": "stdout",
          "text": [
            "enter the principal amount:5000\n",
            "enter the rate of interest:5\n",
            "enter the time in years:2\n",
            "simple interest = 500.0\n"
          ]
        }
      ]
    },
    {
      "cell_type": "markdown",
      "source": [
        "                          ASSIGNMENT-2"
      ],
      "metadata": {
        "id": "w7-B2TimArWs"
      }
    },
    {
      "cell_type": "markdown",
      "source": [
        "1.Write a program that takes the purchase amount as input and calculates the discount and final amount to be paid.\n",
        "Scenario: An online store offers discounts based on the purchase amount:\n",
        "\n",
        "10% discount for purchases between $100 and $500\n",
        "\n",
        "20% discount for purchases above $500\n",
        "\n",
        "No discount for purchases below $100\n",
        "\n",
        "\n"
      ],
      "metadata": {
        "id": "VIvVCwJOxUxY"
      }
    },
    {
      "cell_type": "code",
      "source": [
        "amt = float(input(\"enter the amount:\"))\n",
        "if(amt>=100 and amt<=500):\n",
        "  dis = amt-10/100*amt\n",
        "  print(\"dis\",dis)\n",
        "elif(amt>=500):\n",
        "  dis = amt-20/100*amt\n",
        "  print(\"20% discount\",dis)\n",
        "else:\n",
        "  print(\"no discount\")\n"
      ],
      "metadata": {
        "colab": {
          "base_uri": "https://localhost:8080/"
        },
        "id": "XxxqQOZTxr3A",
        "outputId": "fcc2a98a-1630-4cbd-cbcf-108a2168e3fa"
      },
      "execution_count": null,
      "outputs": [
        {
          "output_type": "stream",
          "name": "stdout",
          "text": [
            "enter the amount:600\n",
            "20% discount 480.0\n"
          ]
        }
      ]
    },
    {
      "cell_type": "markdown",
      "source": [
        "2. Traffic Light Simulation\n",
        "\n",
        "Scenario: Create a program that simulates a traffic light. The user inputs one of the colors: Red, Yellow, or Green. Based on the input:\n",
        "\n",
        "If the input is Red, display \"Stop.\"\n",
        "\n",
        "If the input is Yellow, display \"Ready to move.\"\n",
        "\n",
        "If the input is Green, display \"Go.\"\n",
        "\n",
        "For invalid input, display \"Invalid color.\"\n",
        "\n"
      ],
      "metadata": {
        "id": "3y3-XDl312St"
      }
    },
    {
      "cell_type": "code",
      "source": [
        "colour = input(\"enter the colour\")\n",
        "if(colour == \"red\"):\n",
        "  print(\"stop\")\n",
        "elif(colour == \"yellow\"):\n",
        "  print(\"ready to move\")\n",
        "elif(colour == \"green\"):\n",
        "  print(\"go\")\n",
        "else:\n",
        "  print(\"invalid colour\")\n"
      ],
      "metadata": {
        "colab": {
          "base_uri": "https://localhost:8080/"
        },
        "id": "YcYF1NJV1_Xd",
        "outputId": "8ccfbd91-49a6-43d6-8b0a-1029552ef6a6"
      },
      "execution_count": null,
      "outputs": [
        {
          "output_type": "stream",
          "name": "stdout",
          "text": [
            "enter the colourgreen\n",
            "go\n"
          ]
        }
      ]
    },
    {
      "cell_type": "markdown",
      "source": [
        "3.Grade Evaluation System\n",
        "\n",
        "Scenario: A school uses the following grading system:\n",
        "\n",
        "Marks >= 90: Grade A\n",
        "\n",
        "Marks >= 75 and < 90: Grade B\n",
        "\n",
        "Marks >= 50 and < 75: Grade C\n",
        "\n",
        "Marks < 50: Fail\n",
        "\n",
        "\n",
        "Task: Write a program that accepts the student's marks and displays their grade.\n",
        "\n"
      ],
      "metadata": {
        "id": "PiubNDqk3a-B"
      }
    },
    {
      "cell_type": "code",
      "source": [
        "marks = float(input(\"enter the marks:\"))\n",
        "if(marks>=90):\n",
        "  print(\"Grade A\")\n",
        "elif(marks>=75 and marks<=90):\n",
        "  print(\"Grade B\")\n",
        "elif(marks>=50 and marks<=75):\n",
        "  print(\"Grade C\")\n",
        "elif(marks<50):\n",
        "  print(\"Fail\")\n",
        "else:\n",
        "  print(\"invalid marks\")\n"
      ],
      "metadata": {
        "colab": {
          "base_uri": "https://localhost:8080/"
        },
        "id": "MR-cJ2IM3k82",
        "outputId": "dc8c850d-8e15-4ff1-acdf-ee509274d35c"
      },
      "execution_count": null,
      "outputs": [
        {
          "output_type": "stream",
          "name": "stdout",
          "text": [
            "enter the marks:49\n",
            "Fail\n"
          ]
        }
      ]
    },
    {
      "cell_type": "markdown",
      "source": [
        "4.Odd or Even and Divisibility Check\n",
        "\n",
        "Scenario: Write a program that takes an integer as input and checks:\n",
        "\n",
        "Whether the number is odd or even\n",
        "\n",
        "Whether the number is divisible by 5\n",
        "\n",
        "\n",
        "Display appropriate messages for both conditions.\n",
        "\n",
        "\n"
      ],
      "metadata": {
        "id": "eFB6vubt5I3s"
      }
    },
    {
      "cell_type": "code",
      "source": [
        "n = int(input(\"enter the value:\"))\n",
        "if(n%2 == 0):\n",
        "  print(\"it is a even number:\",n)\n",
        "  if(n%5 == 0):\n",
        "    print(\"appropriate message\")\n",
        "else:\n",
        "  print(\"it is a odd number\",n)\n",
        "  if(n%5 == 0):\n",
        "    print(\"oppropriate message\")\n"
      ],
      "metadata": {
        "colab": {
          "base_uri": "https://localhost:8080/"
        },
        "id": "Qm7U1cMu5Oy5",
        "outputId": "e1e10045-6deb-4ca0-8e45-427078ff03d1"
      },
      "execution_count": null,
      "outputs": [
        {
          "output_type": "stream",
          "name": "stdout",
          "text": [
            "enter the value:10\n",
            "it is a even number: 10\n",
            "appropriate message\n"
          ]
        }
      ]
    },
    {
      "cell_type": "markdown",
      "source": [
        "5.Password Strength Checker\n",
        "\n",
        "Scenario: Write a program that checks the strength of a password based on these rules:\n",
        "\n",
        "Length >= 8 characters: Strong\n",
        "\n",
        "Length between 5 and 7 characters: Medium\n",
        "\n",
        "Length < 5 characters: Weak"
      ],
      "metadata": {
        "id": "WS3GThdV71Yv"
      }
    },
    {
      "cell_type": "code",
      "source": [
        "password = input(\"Enter your password: \")\n",
        "length = len(password)\n",
        "if length >= 8:\n",
        "  strength = \"Strong\"\n",
        "elif 5 <= length <= 7:\n",
        "  strength = \"Medium\"\n",
        "else:\n",
        "  strength = \"Weak\"\n",
        "print(f\"\\nPassword Strength: {strength}\")"
      ],
      "metadata": {
        "colab": {
          "base_uri": "https://localhost:8080/"
        },
        "id": "UDUWzGqR7-My",
        "outputId": "88aca7df-130d-41b4-98d8-6789a9082035"
      },
      "execution_count": null,
      "outputs": [
        {
          "output_type": "stream",
          "name": "stdout",
          "text": [
            "Enter your password: sgfhfjst46r7\n",
            "\n",
            "Password Strength: Strong\n"
          ]
        }
      ]
    },
    {
      "cell_type": "markdown",
      "source": [
        "6.Electricity Bill Calculator\n",
        "\n",
        "Scenario: An electricity company charges its customers as follows:\n",
        "\n",
        "First 100 units: $0.5 per unit\n",
        "\n",
        "Next 100 units (101-200): $0.75 per unit\n",
        "\n",
        "Above 200 units: $1 per unit\n",
        "\n",
        "\n",
        "Task: Write a program that accepts the number of units consumed and calculates the total bill.\n"
      ],
      "metadata": {
        "id": "Z3VYE9vj9a7N"
      }
    },
    {
      "cell_type": "code",
      "source": [
        "units = float(input(\"Enter the number of units consumed: \"))\n",
        "bill = 0.0\n",
        "if units <= 100:\n",
        "  bill = units * 0.5\n",
        "elif units <= 200:\n",
        "  bill = (100 * 0.5) + ((units - 100) * 0.75)\n",
        "else:\n",
        "  bill = (100 * 0.5) + (100 * 0.75) + ((units - 200) * 1.0)\n",
        "print(f\"\\nTotal Electricity Bill: ${bill:.2f}\")"
      ],
      "metadata": {
        "colab": {
          "base_uri": "https://localhost:8080/"
        },
        "id": "wE8bToHg9oK3",
        "outputId": "49e61123-a464-444d-acb1-17ef8d9a3c32"
      },
      "execution_count": null,
      "outputs": [
        {
          "output_type": "stream",
          "name": "stdout",
          "text": [
            "Enter the number of units consumed: 566\n",
            "\n",
            "Total Electricity Bill: $491.00\n"
          ]
        }
      ]
    },
    {
      "cell_type": "markdown",
      "source": [
        "7.Eligibility for Loan Approval\n",
        "\n",
        "Scenario: A bank approves loans based on these conditions:\n",
        "\n",
        "Age should be between 21 and 60\n",
        "\n",
        "Monthly income should be greater than or equal to $5000\n",
        "\n",
        "\n",
        "Task: Write a program to check whether a person is eligible for the loan based on their age and monthly income.\n"
      ],
      "metadata": {
        "id": "UYveKV3l_VCr"
      }
    },
    {
      "cell_type": "code",
      "source": [
        "age = int(input(\"Enter your age: \"))\n",
        "income = float(input(\"Enter your monthly income ($): \"))\n",
        "if 21 <= age <= 60 and income >= 5000:\n",
        "  print(\"\\n You are eligible for the loan.\")\n",
        "else:\n",
        "  print(\"\\n You are NOT eligible for the loan.\")"
      ],
      "metadata": {
        "colab": {
          "base_uri": "https://localhost:8080/"
        },
        "id": "Q_vfkzQF_cum",
        "outputId": "3b5f1749-6d7b-4771-acfa-392f4c28d6ef"
      },
      "execution_count": null,
      "outputs": [
        {
          "output_type": "stream",
          "name": "stdout",
          "text": [
            "Enter your age: 45\n",
            "Enter your monthly income ($): 6000\n",
            "\n",
            " You are eligible for the loan.\n"
          ]
        }
      ]
    },
    {
      "cell_type": "markdown",
      "source": [
        "8.Temperature Alert System\n",
        "\n",
        "Scenario: A weather monitoring system alerts based on the temperature:\n",
        "\n",
        "Below 0°C: \"Freezing weather\"\n",
        "\n",
        "0°C to 20°C: \"Cold weather\"\n",
        "\n",
        "21°C to 30°C: \"Warm weather\"\n",
        "\n",
        "Above 30°C: \"Hot weather\"\n",
        "\n",
        "\n",
        "Task: Write a program that takes the temperature as input and displays the corresponding alert message."
      ],
      "metadata": {
        "id": "ob697U9-ANT_"
      }
    },
    {
      "cell_type": "code",
      "source": [
        "temperature = float(input(\"Enter the temperature in °C: \"))\n",
        "if temperature <0:\n",
        "  alert = \"Freezing weather\"\n",
        "elif 0<=temperature<= 20:\n",
        "  alert = \"Cold weather\"\n",
        "elif 21 <= temperature <= 30:\n",
        "  alert = \"Warm weather\"\n",
        "else:\n",
        "  alert = \"Hot weather\"\n",
        "print(f\"\\n Temperature Alert: {alert}\")"
      ],
      "metadata": {
        "colab": {
          "base_uri": "https://localhost:8080/"
        },
        "id": "XDQMAXz0AP2f",
        "outputId": "2e2722b3-3832-489e-cd66-687a845e4bbd"
      },
      "execution_count": null,
      "outputs": [
        {
          "output_type": "stream",
          "name": "stdout",
          "text": [
            "Enter the temperature in °C: 80\n",
            "\n",
            " Temperature Alert: Hot weather\n"
          ]
        }
      ]
    },
    {
      "cell_type": "markdown",
      "source": [
        "                             ASSIGNMENT-3(10-09-2025)"
      ],
      "metadata": {
        "id": "gC5QFih-DjxL"
      }
    },
    {
      "cell_type": "markdown",
      "source": [
        "1.Grading System\n",
        "Write a Python program that takes a student’s marks as input.\n",
        "If marks ≥ 90 → print \"Grade A\"\n",
        "\n",
        "Else if marks ≥ 75 → print \"Grade B\"\n",
        "\n",
        "Else if marks ≥ 50 → print \"Grade C\"\n",
        "\n",
        "Else → print \"Fail\"\n"
      ],
      "metadata": {
        "id": "_Af7DQVCDtNk"
      }
    },
    {
      "cell_type": "code",
      "source": [
        "marks = int(input(\"enter the marks:\"))\n",
        "if marks >= 50:\n",
        "  if marks >= 90:\n",
        "    print(\"Grade A\")\n",
        "  elif marks >=75:\n",
        "    print(\"Grade B\")\n",
        "  else:\n",
        "    print(\"Grade C\")\n",
        "else:\n",
        "  print(\"Fail\")"
      ],
      "metadata": {
        "colab": {
          "base_uri": "https://localhost:8080/"
        },
        "id": "B2KRGAKdDyq1",
        "outputId": "aefff208-4385-477b-9020-973bc90fb977"
      },
      "execution_count": null,
      "outputs": [
        {
          "output_type": "stream",
          "name": "stdout",
          "text": [
            "enter the marks:85\n",
            "Grade B\n"
          ]
        }
      ]
    },
    {
      "cell_type": "markdown",
      "source": [
        "2. ATM Withdrawal Check\n",
        "Ask the user for:\n",
        "\n",
        "\n",
        "\n",
        "Account balance\n",
        "\n",
        "Amount to withdraw\n",
        "Check using nested if:\n",
        "\n",
        "If balance ≥ withdrawal amount → further check if withdrawal amount is a multiple of 100\n",
        "\n",
        "If yes → \"Transaction Successful\"\n",
        "\n",
        "Else → \"Enter amount in multiples of 100\"\n",
        "\n",
        "\n",
        "Else → \"Insufficient Balance\"\n"
      ],
      "metadata": {
        "id": "MYelWfCSHbL5"
      }
    },
    {
      "cell_type": "code",
      "source": [
        "balance = float(input(\"Enter your account balance: \"))\n",
        "withdraw_amount = float(input(\"Enter amount to withdraw: \"))\n",
        "if balance >= withdraw_amount:\n",
        "    if withdraw_amount % 100 == 0:\n",
        "        print(\"Transaction Successful\")\n",
        "    else:\n",
        "        print(\"Enter amount in multiples of 100\")\n",
        "\n",
        "else:\n",
        "    print(\"Insufficient Balance\")"
      ],
      "metadata": {
        "colab": {
          "base_uri": "https://localhost:8080/"
        },
        "id": "842jchi2HpME",
        "outputId": "01a5dca5-ef83-4abc-b09a-0fa498218863"
      },
      "execution_count": null,
      "outputs": [
        {
          "output_type": "stream",
          "name": "stdout",
          "text": [
            "Enter your account balance: 5000\n",
            "Enter amount to withdraw: 6000\n",
            "Insufficient Balance\n"
          ]
        }
      ]
    },
    {
      "cell_type": "markdown",
      "source": [
        "3. Triangle Type Checker\n",
        "Take three sides of a triangle as input.\n",
        "\n",
        "\n",
        "\n",
        "First check if it forms a valid triangle (a+b > c, b+c > a, a+c > b).\n",
        "\n",
        "If valid, then check:\n",
        "\n",
        "If all sides are equal → \"Equilateral\"\n",
        "\n",
        "Else if two sides are equal → \"Isosceles\"\n",
        "\n",
        "Else → \"Scalene\"\n",
        "\n",
        "\n",
        "\n",
        "Else → \"Not a Triangle\"\n"
      ],
      "metadata": {
        "id": "wHp1Jkr0IrM4"
      }
    },
    {
      "cell_type": "code",
      "source": [
        "a = float(input(\"Enter side a: \"))\n",
        "b = float(input(\"Enter side b: \"))\n",
        "c = float(input(\"Enter side c: \"))\n",
        "if (a + b > c) and (b + c > a) and (a + c > b):\n",
        "  if a == b == c:\n",
        "    print(\"Equilateral Triangle\")\n",
        "  elif a==b or b==c or a==c:\n",
        "    print(\"Isosceles Triangle\")\n",
        "  else:\n",
        "    print(\"scalene triangle\")\n",
        "else:\n",
        "  print(\"it's not a triangle\")"
      ],
      "metadata": {
        "colab": {
          "base_uri": "https://localhost:8080/"
        },
        "id": "MTD2_HZlJIwB",
        "outputId": "2d4fc3f2-80dc-4a55-b4fc-cdeda9c8104f"
      },
      "execution_count": null,
      "outputs": [
        {
          "output_type": "stream",
          "name": "stdout",
          "text": [
            "Enter side a: 33\n",
            "Enter side b: 2\n",
            "Enter side c: 55\n",
            "it's not a triangle\n"
          ]
        }
      ]
    },
    {
      "cell_type": "markdown",
      "source": [
        "\n",
        "4. Voting Eligibility\n",
        "Ask the user for age and citizenship (Indian/Other).\n",
        "\n",
        "\n",
        "\n",
        "If age ≥ 18\n",
        "\n",
        "If citizenship is Indian → \"Eligible to Vote\"\n",
        "\n",
        "Else → \"Not Eligible (Non-Citizen)\"\n",
        "\n",
        "\n",
        "Else → \"Not Eligible (Underage)\"\n"
      ],
      "metadata": {
        "id": "FmMS3gbwrkau"
      }
    },
    {
      "cell_type": "code",
      "source": [
        "age = int(input(\"enter your age:\"))\n",
        "nation = input(\"enter your nation:\")\n",
        "if age>=18:\n",
        "  if nation == \"india\":\n",
        "    print(\"eligible for votting\")\n",
        "  else:\n",
        "    print(\"not eligible(non-citizen)\")\n",
        "else:\n",
        "  print(\"not eligible(underage)\")"
      ],
      "metadata": {
        "colab": {
          "base_uri": "https://localhost:8080/"
        },
        "id": "SizG7jMz1cJ2",
        "outputId": "80cabec5-0634-4e15-be84-43e8c8d8b5ff"
      },
      "execution_count": null,
      "outputs": [
        {
          "output_type": "stream",
          "name": "stdout",
          "text": [
            "enter your age:19\n",
            "enter your nation:russai\n",
            "not eligible(non-citizen)\n"
          ]
        }
      ]
    },
    {
      "cell_type": "markdown",
      "source": [
        "\n",
        "5. Discount Calculator\n",
        "Take the total bill amount as input.\n",
        "\n",
        "\n",
        "\n",
        "If bill ≥ 5000\n",
        "\n",
        "If bill ≥ 10000 → give 20% discount\n",
        "\n",
        "Else → give 10% discount\n",
        "\n",
        "\n",
        "Else\n",
        "\n",
        "If bill ≥ 2000 → give 5% discount\n",
        "\n",
        "Else → \"No Discount\""
      ],
      "metadata": {
        "id": "T1osbVZs3Grh"
      }
    },
    {
      "cell_type": "code",
      "source": [
        "bill = float(input(\"enter your bill amount:\"))\n",
        "if bill>=5000:\n",
        "  if bill>=10000:\n",
        "    bill = bill-20/100*bill\n",
        "    print(f\"after 20% discount:{bill}\")\n",
        "  else:\n",
        "    bill= bill-10/100*bill\n",
        "    print(f\"after 10% discount:{bill}\")\n",
        "else:\n",
        "  if bill>=2000:\n",
        "    bill=bill-5/100*bill\n",
        "    print(f\"after 5% discount:{bill}\")\n",
        "  else:\n",
        "    print(\"no discount\")"
      ],
      "metadata": {
        "colab": {
          "base_uri": "https://localhost:8080/"
        },
        "id": "QLjqJ9h93NsS",
        "outputId": "bdd99ccb-d678-4dc0-9d2a-2410f17f0b0d"
      },
      "execution_count": null,
      "outputs": [
        {
          "output_type": "stream",
          "name": "stdout",
          "text": [
            "enter your bill amount:6000\n",
            "after 10% discount:5400.0\n"
          ]
        }
      ]
    },
    {
      "cell_type": "markdown",
      "source": [
        "                             ASSIGNMENT-4  (12-09-2025)"
      ],
      "metadata": {
        "id": "UdvBDmkD4KKo"
      }
    },
    {
      "cell_type": "markdown",
      "source": [
        "1. Employee Salary Increment\n",
        "A company gives a 5% yearly increment to an employee’s salary. Write a for loop to calculate the employee’s salary for the next 10 years starting from ₹50,000."
      ],
      "metadata": {
        "id": "ZoMlj3uk4bTg"
      }
    },
    {
      "cell_type": "code",
      "source": [
        "sal = 50000\n",
        "for i in range(1,11,1):\n",
        "  sal = sal+(5)/100*sal\n",
        "  print(f\"salary for {i} year is {sal}\")"
      ],
      "metadata": {
        "colab": {
          "base_uri": "https://localhost:8080/"
        },
        "id": "7mssVsoP4zXJ",
        "outputId": "0f160e88-5eb1-45ec-8cee-17f01a69ce67"
      },
      "execution_count": null,
      "outputs": [
        {
          "output_type": "stream",
          "name": "stdout",
          "text": [
            "salary for 1 year is 52500.0\n",
            "salary for 2 year is 55125.0\n",
            "salary for 3 year is 57881.25\n",
            "salary for 4 year is 60775.3125\n",
            "salary for 5 year is 63814.078125\n",
            "salary for 6 year is 67004.78203125\n",
            "salary for 7 year is 70355.0211328125\n",
            "salary for 8 year is 73872.77218945313\n",
            "salary for 9 year is 77566.41079892579\n",
            "salary for 10 year is 81444.73133887208\n"
          ]
        }
      ]
    },
    {
      "cell_type": "markdown",
      "source": [
        "\n",
        "2. Class Attendance Percentage\n",
        "A student attended 18 out of 25 classes. Write a for loop to calculate and display the attendance percentage for each class attended (like running count).\n"
      ],
      "metadata": {
        "id": "ILBbixMQ5QuA"
      }
    },
    {
      "cell_type": "code",
      "source": [
        "total_classes = 25\n",
        "attended_classes = 18\n",
        "count = 0\n",
        "for i in range(1,total_classes+1,1):\n",
        "  if i<=attended_classes:\n",
        "    count = i\n",
        "  else:\n",
        "    count = attended_classes\n",
        "  attended_percentage = count/i*100\n",
        "  print(f\"after class {i}: attended {count} classes.running attedence percentage {attended_percentage}%\")"
      ],
      "metadata": {
        "colab": {
          "base_uri": "https://localhost:8080/"
        },
        "id": "VFFpeZpj5ZhB",
        "outputId": "d6b1bf0f-e575-40a7-d09f-72c1b829a157"
      },
      "execution_count": null,
      "outputs": [
        {
          "output_type": "stream",
          "name": "stdout",
          "text": [
            "after class 1: attended 1 classes.running attedence percentage 100.0%\n",
            "after class 2: attended 2 classes.running attedence percentage 100.0%\n",
            "after class 3: attended 3 classes.running attedence percentage 100.0%\n",
            "after class 4: attended 4 classes.running attedence percentage 100.0%\n",
            "after class 5: attended 5 classes.running attedence percentage 100.0%\n",
            "after class 6: attended 6 classes.running attedence percentage 100.0%\n",
            "after class 7: attended 7 classes.running attedence percentage 100.0%\n",
            "after class 8: attended 8 classes.running attedence percentage 100.0%\n",
            "after class 9: attended 9 classes.running attedence percentage 100.0%\n",
            "after class 10: attended 10 classes.running attedence percentage 100.0%\n",
            "after class 11: attended 11 classes.running attedence percentage 100.0%\n",
            "after class 12: attended 12 classes.running attedence percentage 100.0%\n",
            "after class 13: attended 13 classes.running attedence percentage 100.0%\n",
            "after class 14: attended 14 classes.running attedence percentage 100.0%\n",
            "after class 15: attended 15 classes.running attedence percentage 100.0%\n",
            "after class 16: attended 16 classes.running attedence percentage 100.0%\n",
            "after class 17: attended 17 classes.running attedence percentage 100.0%\n",
            "after class 18: attended 18 classes.running attedence percentage 100.0%\n",
            "after class 19: attended 18 classes.running attedence percentage 94.73684210526315%\n",
            "after class 20: attended 18 classes.running attedence percentage 90.0%\n",
            "after class 21: attended 18 classes.running attedence percentage 85.71428571428571%\n",
            "after class 22: attended 18 classes.running attedence percentage 81.81818181818183%\n",
            "after class 23: attended 18 classes.running attedence percentage 78.26086956521739%\n",
            "after class 24: attended 18 classes.running attedence percentage 75.0%\n",
            "after class 25: attended 18 classes.running attedence percentage 72.0%\n"
          ]
        }
      ]
    },
    {
      "cell_type": "markdown",
      "source": [
        "\n",
        "3. Product Discount Prices\n",
        "A store applies a 10% discount on all products. Given a list of original prices [100, 250, 400, 560, 700], use a for loop to calculate and print the discounted prices.\n"
      ],
      "metadata": {
        "id": "kz8odluh6n1Y"
      }
    },
    {
      "cell_type": "code",
      "source": [
        "l1 =[100,250,400,560,700]\n",
        "after_discountprice = []\n",
        "for i in l1:\n",
        "  discount = i*0.1\n",
        "  new_price = i-discount\n",
        "  after_discountprice.append(new_price)\n",
        "print(\"original prices =\",l1)\n",
        "print(\"discount prices =\",after_discountprice)"
      ],
      "metadata": {
        "colab": {
          "base_uri": "https://localhost:8080/"
        },
        "id": "sij4HG6Z6vFK",
        "outputId": "090d1acd-25cc-4fdc-db68-6501e5a85691"
      },
      "execution_count": null,
      "outputs": [
        {
          "output_type": "stream",
          "name": "stdout",
          "text": [
            "original prices = [100, 250, 400, 560, 700]\n",
            "discount prices = [90.0, 225.0, 360.0, 504.0, 630.0]\n"
          ]
        }
      ]
    },
    {
      "cell_type": "markdown",
      "source": [
        "\n",
        "4. Monthly Savings Growth\n",
        "A person saves ₹1,000 every month. Write a for loop to calculate and display the total savings at the end of each month for 12 months.\n"
      ],
      "metadata": {
        "id": "C3vxaLni7Vmj"
      }
    },
    {
      "cell_type": "code",
      "source": [
        "n = 1000\n",
        "for i in range(1,13,1):\n",
        "  savings=i*n\n",
        "  print(f\"savings of {i}st month is {savings}\")"
      ],
      "metadata": {
        "colab": {
          "base_uri": "https://localhost:8080/"
        },
        "id": "ahhmXhB47dqH",
        "outputId": "dfc345a3-7dcf-47f8-96b4-3e608eb18b28"
      },
      "execution_count": null,
      "outputs": [
        {
          "output_type": "stream",
          "name": "stdout",
          "text": [
            "savings of 1st month is 1000\n",
            "savings of 2st month is 2000\n",
            "savings of 3st month is 3000\n",
            "savings of 4st month is 4000\n",
            "savings of 5st month is 5000\n",
            "savings of 6st month is 6000\n",
            "savings of 7st month is 7000\n",
            "savings of 8st month is 8000\n",
            "savings of 9st month is 9000\n",
            "savings of 10st month is 10000\n",
            "savings of 11st month is 11000\n",
            "savings of 12st month is 12000\n"
          ]
        }
      ]
    },
    {
      "cell_type": "markdown",
      "source": [
        "5. Electricity Bill Calculation\n",
        "The electricity cost is ₹5 per unit. If a household consumes [120, 135, 150, 160, 145] units over 5 months, use a for loop to calculate the bill for each month.\n"
      ],
      "metadata": {
        "id": "dWKwubWZ74Mr"
      }
    },
    {
      "cell_type": "code",
      "source": [
        "units =[120,135,150,160,145]\n",
        "bills=[]\n",
        "for i in units:\n",
        "  bill = i*5\n",
        "  bills.append(bill)\n",
        "print(\"units consumed each month = \",units)\n",
        "print(\"bills for each month(₹)=\",bills)"
      ],
      "metadata": {
        "colab": {
          "base_uri": "https://localhost:8080/"
        },
        "id": "Cdf3JdTj79Nc",
        "outputId": "efc94628-9f2b-4197-e703-b62363650247"
      },
      "execution_count": null,
      "outputs": [
        {
          "output_type": "stream",
          "name": "stdout",
          "text": [
            "units consumed each month =  [120, 135, 150, 160, 145]\n",
            "bills for each month(₹)= [600, 675, 750, 800, 725]\n"
          ]
        }
      ]
    },
    {
      "cell_type": "markdown",
      "source": [
        "6. Student Marks Percentage\n",
        "A student scored marks in 5 subjects: [78, 85, 90, 66, 72]. Use a for loop to calculate the percentage (out of 100) for each subject"
      ],
      "metadata": {
        "id": "VjnlF9zS8f3i"
      }
    },
    {
      "cell_type": "code",
      "source": [
        "marks = [78,85,90,66,72]\n",
        "percentage =[]\n",
        "for i in marks:\n",
        "  per = i/100*100\n",
        "  percentage.append(per)\n",
        "print(\"marks =\",marks)\n",
        "print(f\"percentage = {percentage}\")"
      ],
      "metadata": {
        "colab": {
          "base_uri": "https://localhost:8080/"
        },
        "id": "0Hy6tF3j8hdQ",
        "outputId": "b8dfadbd-0bb3-411b-c97a-77780268601c"
      },
      "execution_count": null,
      "outputs": [
        {
          "output_type": "stream",
          "name": "stdout",
          "text": [
            "marks = [78, 85, 90, 66, 72]\n",
            "percentage = [78.0, 85.0, 90.0, 66.0, 72.0]\n"
          ]
        }
      ]
    }
  ]
}